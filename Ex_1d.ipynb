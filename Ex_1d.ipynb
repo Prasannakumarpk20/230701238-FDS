{
 "cells": [
  {
   "cell_type": "code",
   "execution_count": 1,
   "metadata": {},
   "outputs": [
    {
     "name": "stdout",
     "output_type": "stream",
     "text": [
      "Original Data: b'This college is definitly the best.'\n",
      "Encrypted Data: b'gAAAAABm9xcZIwaDhEzwp_ipFHz1jrkOuiKpS7GVplW-fZf89cUMpqUFE875dSEaPAnjlXMD8kLOZR58v59nzbU7ZGMWckj2NYSq-_y7BvI5iWtgrRajJ9Rxe8YBvqjBI-8YNQwuIyKt'\n",
      "Decrypted Data: b'This college is definitly the best.'\n"
     ]
    }
   ],
   "source": [
    "#230701238\n",
    "#Prasnnakumar.P\n",
    "#CSE-D\n",
    "\n",
    "from cryptography.fernet import Fernet\n",
    "'''key = Fernet.generate_key()\n",
    "f = Fernet(key)\n",
    "token = f.encrypt(b\"This college is definitly the best.\")\n",
    "token\n",
    "b'...'\n",
    "f.decrypt(token)\n",
    "b'This college is definitly the best.   '  '''\n",
    "key = Fernet.generate_key()\n",
    "cipher_suite = Fernet(key)\n",
    "plain_text = b\"This college is definitly the best.\"\n",
    "cipher_text = cipher_suite.encrypt(plain_text)\n",
    "# Decrypt data\n",
    "decrypted_text = cipher_suite.decrypt(cipher_text)\n",
    "print(\"Original Data:\", plain_text)\n",
    "print(\"Encrypted Data:\", cipher_text)\n",
    "print(\"Decrypted Data:\", decrypted_text)\n",
    "\n"
   ]
  }
 ],
 "metadata": {
  "kernelspec": {
   "display_name": "myenv",
   "language": "python",
   "name": "python3"
  },
  "language_info": {
   "codemirror_mode": {
    "name": "ipython",
    "version": 3
   },
   "file_extension": ".py",
   "mimetype": "text/x-python",
   "name": "python",
   "nbconvert_exporter": "python",
   "pygments_lexer": "ipython3",
   "version": "3.9.5"
  }
 },
 "nbformat": 4,
 "nbformat_minor": 2
}
