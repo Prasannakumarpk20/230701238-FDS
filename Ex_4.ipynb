{
 "cells": [
  {
   "cell_type": "code",
   "execution_count": 13,
   "metadata": {},
   "outputs": [
    {
     "name": "stdout",
     "output_type": "stream",
     "text": [
      "                 Job_Title            Industry Company_Size Location  \\\n",
      "0    Cybersecurity Analyst       Entertainment        Small    Dubai   \n",
      "1     Marketing Specialist          Technology          NaN      NaN   \n",
      "2            AI Researcher          Technology        Large      NaN   \n",
      "3            Sales Manager              Retail        Small   Berlin   \n",
      "4    Cybersecurity Analyst       Entertainment        Small    Tokyo   \n",
      "..                     ...                 ...          ...      ...   \n",
      "495         Data Scientist  Telecommunications       Medium   Berlin   \n",
      "496  Cybersecurity Analyst  Telecommunications        Small   London   \n",
      "497  Cybersecurity Analyst              Energy          NaN    Dubai   \n",
      "498                    NaN          Healthcare        Large    Paris   \n",
      "499             HR Manager       Entertainment       Medium   Berlin   \n",
      "\n",
      "    AI_Adoption_Level Automation_Risk     Required_Skills    Salary_USD  \\\n",
      "0              Medium            High        UX/UI Design  111392.16520   \n",
      "1              Medium            High           Marketing   93792.56247   \n",
      "2              Medium            High        UX/UI Design  107170.26310   \n",
      "3                 Low             NaN  Project Management   93027.95376   \n",
      "4                 Low             NaN          JavaScript   87752.92217   \n",
      "..                ...             ...                 ...           ...   \n",
      "495               Low          Medium    Machine Learning  105821.39400   \n",
      "496               Low            High        UX/UI Design  119794.99210   \n",
      "497              High             Low        UX/UI Design   79644.93310   \n",
      "498              High             Low              Python   77642.15063   \n",
      "499            Medium            High  Project Management   68764.37892   \n",
      "\n",
      "    Remote_Friendly Job_Growth_Projection  \n",
      "0               Yes                Growth  \n",
      "1                No               Decline  \n",
      "2               Yes                Growth  \n",
      "3                No                Growth  \n",
      "4               Yes                   NaN  \n",
      "..              ...                   ...  \n",
      "495             Yes                Stable  \n",
      "496              No               Decline  \n",
      "497             NaN                   NaN  \n",
      "498             Yes                Stable  \n",
      "499             Yes               Decline  \n",
      "\n",
      "[500 rows x 10 columns]\n"
     ]
    }
   ],
   "source": [
    "#230701238\n",
    "#Prasnnakumar.P\n",
    "#CSE-D\n",
    "\n",
    "import pandas as pd \n",
    "import numpy as np\n",
    "import matplotlib.pyplot as plt\n",
    "df=pd.read_csv(\"C:/Users/Prasannakumar/Downloads/ai_job_market_insightss.csv\")\n",
    "print(df)"
   ]
  },
  {
   "cell_type": "code",
   "execution_count": 14,
   "metadata": {},
   "outputs": [
    {
     "name": "stdout",
     "output_type": "stream",
     "text": [
      "Job_Title                50\n",
      "Industry                 50\n",
      "Company_Size             50\n",
      "Location                 50\n",
      "AI_Adoption_Level        50\n",
      "Automation_Risk          50\n",
      "Required_Skills          50\n",
      "Salary_USD               50\n",
      "Remote_Friendly          50\n",
      "Job_Growth_Projection    50\n",
      "dtype: int64\n"
     ]
    }
   ],
   "source": [
    "print(df.isnull().sum())"
   ]
  },
  {
   "cell_type": "code",
   "execution_count": 15,
   "metadata": {},
   "outputs": [
    {
     "name": "stderr",
     "output_type": "stream",
     "text": [
      "C:\\Users\\Prasannakumar\\AppData\\Local\\Temp\\ipykernel_35468\\1846373533.py:1: FutureWarning: A value is trying to be set on a copy of a DataFrame or Series through chained assignment using an inplace method.\n",
      "The behavior will change in pandas 3.0. This inplace method will never work because the intermediate object on which we are setting values always behaves as a copy.\n",
      "\n",
      "For example, when doing 'df[col].method(value, inplace=True)', try using 'df.method({col: value}, inplace=True)' or df[col] = df[col].method(value) instead, to perform the operation inplace on the original object.\n",
      "\n",
      "\n",
      "  df['Salary_USD'].fillna(df['Salary_USD'].mean(),inplace=True)\n"
     ]
    }
   ],
   "source": [
    "df['Salary_USD'].fillna(df['Salary_USD'].mean(),inplace=True)"
   ]
  },
  {
   "cell_type": "code",
   "execution_count": 16,
   "metadata": {},
   "outputs": [],
   "source": [
    "df.dropna(subset=['Job_Title','Industry','Company_Size','Location','AI_Adoption_Level','Automation_Risk','Required_Skills','Remote_Friendly','Job_Growth_Projection'],inplace=True)"
   ]
  },
  {
   "cell_type": "code",
   "execution_count": 17,
   "metadata": {},
   "outputs": [
    {
     "name": "stdout",
     "output_type": "stream",
     "text": [
      "Job_Title                0\n",
      "Industry                 0\n",
      "Company_Size             0\n",
      "Location                 0\n",
      "AI_Adoption_Level        0\n",
      "Automation_Risk          0\n",
      "Required_Skills          0\n",
      "Salary_USD               0\n",
      "Remote_Friendly          0\n",
      "Job_Growth_Projection    0\n",
      "dtype: int64\n"
     ]
    }
   ],
   "source": [
    "print(df.isnull().sum())"
   ]
  },
  {
   "cell_type": "code",
   "execution_count": 20,
   "metadata": {},
   "outputs": [
    {
     "data": {
      "image/png": "[encoded data removed]",
      "text/plain": [
       "<Figure size 640x480 with 1 Axes>"
      ]
     },
     "metadata": {},
     "output_type": "display_data"
    }
   ],
   "source": [
    "import matplotlib.pyplot as plt\n",
    "df[['Salary_USD']].boxplot()\n",
    "plt.xlabel(\"Jobs\")\n",
    "plt.ylabel(\"Salary\")\n",
    "plt.show()\n"
   ]
  }
 ],
 "metadata": {
  "kernelspec": {
   "display_name": "myenv",
   "language": "python",
   "name": "python3"
  },
  "language_info": {
   "codemirror_mode": {
    "name": "ipython",
    "version": 3
   },
   "file_extension": ".py",
   "mimetype": "text/x-python",
   "name": "python",
   "nbconvert_exporter": "python",
   "pygments_lexer": "ipython3",
   "version": "3.9.5"
  }
 },
 "nbformat": 4,
 "nbformat_minor": 2
}
