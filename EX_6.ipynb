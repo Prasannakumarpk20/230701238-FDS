{
 "cells": [
  {
   "cell_type": "code",
   "execution_count": 1,
   "metadata": {},
   "outputs": [
    {
     "name": "stdout",
     "output_type": "stream",
     "text": [
      "PCA Components:\n",
      "         PC1        PC2\n",
      "0 -31.877497 -10.676955\n",
      "1  11.653222   4.719728\n",
      "2 -37.455102   0.661837\n",
      "3   0.272163  23.376804\n",
      "4  11.672251 -15.257611\n",
      "\n",
      "Age Groups:\n",
      "   Age Age_Group\n",
      "0   29     20-30\n",
      "1   45     40-50\n",
      "2   33     30-40\n",
      "3   50     40-50\n",
      "4   41     40-50\n",
      "\n",
      "Glucose Bins:\n",
      "   Glucose   Glucose_Binned\n",
      "0      120  (109.93, 124.0]\n",
      "1      150   (138.0, 152.0]\n",
      "2      110  (109.93, 124.0]\n",
      "3      130   (124.0, 138.0]\n",
      "4      160   (152.0, 166.0]\n"
     ]
    }
   ],
   "source": [
    "#230701238\n",
    "#Prasnnakumar.P\n",
    "#CSE-D\n",
    "\n",
    "import pandas as pd\n",
    "from sklearn.decomposition import PCA\n",
    "data = {\n",
    "    'Pregnancies': [2, 4, 1, 3, 5, 2, 3, 4, 1, 0],\n",
    "    'Glucose': [120, 150, 110, 130, 160, 170, 140, 135, 125, 180],\n",
    "    'BloodPressure': [80, 90, 85, 88, 95, 70, 78, 82, 86, 89],\n",
    "    'SkinThickness': [30, 32, 28, 34, 40, 35, 30, 29, 31, 33],\n",
    "    'Insulin': [100, 130, 105, 140, 110, 120, 115, 135, 125, 145],\n",
    "    'BMI': [25.6, 28.1, 22.0, 30.4, 29.5, 26.2, 24.1, 27.8, 25.0, 29.0],\n",
    "    'DiabetesPedigreeFunction': [0.5, 0.6, 0.4, 0.7, 0.8, 0.6, 0.5, 0.4, 0.6, 0.7],\n",
    "    'Age': [29, 45, 33, 50, 41, 25, 38, 48, 34, 60]\n",
    "}\n",
    "\n",
    "diabetes_df = pd.DataFrame(data)\n",
    "\n",
    "# Numerical features to apply PCA\n",
    "numerical_features = ['Pregnancies', 'Glucose', 'BloodPressure', 'SkinThickness', 'Insulin', 'BMI', 'DiabetesPedigreeFunction', 'Age']\n",
    "\n",
    "# Apply PCA for data reduction\n",
    "pca = PCA(n_components=2)\n",
    "pca_components = pca.fit_transform(diabetes_df[numerical_features])\n",
    "\n",
    "# Create a DataFrame with the PCA components\n",
    "pca_df = pd.DataFrame(data=pca_components, columns=['PC1', 'PC2'])\n",
    "print(\"PCA Components:\")\n",
    "print(pca_df.head())\n",
    "\n",
    "#segregation of  age from bins values\n",
    "bins = [20, 30, 40, 50, 60, 70, 80]\n",
    "labels = ['20-30', '30-40', '40-50', '50-60', '60-70', '70-80']\n",
    "diabetes_df['Age_Group'] = pd.cut(diabetes_df['Age'], bins=bins, labels=labels)\n",
    "print(\"\\nAge Groups:\")\n",
    "print(diabetes_df[['Age', 'Age_Group']].head())\n",
    "\n",
    "# segregation of Glucose levels into 5 parts ..bins are calculation automatically\n",
    "diabetes_df['Glucose_Binned'] = pd.cut(diabetes_df['Glucose'], bins=5)\n",
    "print(\"\\nGlucose Bins:\")\n",
    "print(diabetes_df[['Glucose', 'Glucose_Binned']].head())\n"
   ]
  }
 ],
 "metadata": {
  "kernelspec": {
   "display_name": "Python 3",
   "language": "python",
   "name": "python3"
  },
  "language_info": {
   "codemirror_mode": {
    "name": "ipython",
    "version": 3
   },
   "file_extension": ".py",
   "mimetype": "text/x-python",
   "name": "python",
   "nbconvert_exporter": "python",
   "pygments_lexer": "ipython3",
   "version": "3.9.5"
  }
 },
 "nbformat": 4,
 "nbformat_minor": 2
}
