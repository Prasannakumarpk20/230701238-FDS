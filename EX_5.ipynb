{
 "cells": [
  {
   "cell_type": "code",
   "execution_count": 11,
   "metadata": {},
   "outputs": [
    {
     "name": "stdout",
     "output_type": "stream",
     "text": [
      "   Pregnancies  Glucose  BloodPressure  SkinThickness  Insulin   BMI  \\\n",
      "0            2      120             80             30      100  25.6   \n",
      "1            4      150             90             32      130  28.1   \n",
      "2            1      110             85             28      105  22.0   \n",
      "3            3      130             88             34      140  30.4   \n",
      "\n",
      "   DiabetesPedigreeFunction  Age categorical_column BMI_calculator  \n",
      "0                       0.5   29                Yes     Overweight  \n",
      "1                       0.6   45                 No     Overweight  \n",
      "2                       0.4   33                 No         Normal  \n",
      "3                       0.7   50                Yes          Obese  \n"
     ]
    }
   ],
   "source": [
    "#230701238\n",
    "#Prasnnakumar.P\n",
    "#CSE-D\n",
    "\n",
    "import pandas as pd \n",
    "from sklearn.preprocessing import StandardScaler \n",
    "\n",
    "data = {\n",
    "    'Pregnancies': [2, 4, 1, 3],\n",
    "    'Glucose': [120, 150, 110, 130],\n",
    "    'BloodPressure': [80, 90, 85, 88],\n",
    "    'SkinThickness': [30, 32, 28, 34],\n",
    "    'Insulin': [100, 130, 105, 140],\n",
    "    'BMI': [25.6, 28.1, 22.0, 30.4],\n",
    "    'DiabetesPedigreeFunction': [0.5, 0.6, 0.4, 0.7],\n",
    "    'Age': [29, 45, 33, 50],\n",
    "    'categorical_column': ['Yes', 'No', 'No', 'Yes']\n",
    "}\n",
    "scaler=StandardScaler()\n",
    "df=pd.DataFrame(data)\n",
    "numerical_features = ['Pregnancies', 'Glucose', 'BloodPressure', 'SkinThickness', 'Insulin', 'BMI', 'DiabetesPedigreeFunction', 'Age']\n",
    "#df[numerical_features]=scaler.fit_transform(df[numerical_features])\n",
    "#print(df.head())\n",
    "bins=[0,18.5,24.9,29.9,100]\n",
    "labels=['Underweight','Normal','Overweight','Obese']\n",
    "df['BMI_calculator']=pd.cut(df['BMI'],bins=bins,labels=labels)\n",
    "\n",
    "print(df.head())\n"
   ]
  }
 ],
 "metadata": {
  "kernelspec": {
   "display_name": "Python 3",
   "language": "python",
   "name": "python3"
  },
  "language_info": {
   "codemirror_mode": {
    "name": "ipython",
    "version": 3
   },
   "file_extension": ".py",
   "mimetype": "text/x-python",
   "name": "python",
   "nbconvert_exporter": "python",
   "pygments_lexer": "ipython3",
   "version": "3.9.5"
  }
 },
 "nbformat": 4,
 "nbformat_minor": 2
}
