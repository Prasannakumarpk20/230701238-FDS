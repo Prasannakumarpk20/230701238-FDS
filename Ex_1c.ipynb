{
 "cells": [
  {
   "cell_type": "code",
   "execution_count": 3,
   "metadata": {},
   "outputs": [
    {
     "name": "stdout",
     "output_type": "stream",
     "text": [
      "Structured Data:\n",
      "    ID      Name  Age\n",
      "0  11    Rakesh   21\n",
      "1  22   Nithish   65\n",
      "2  33  Pratyush   23\n",
      "\n",
      "Unstructured Data:\n",
      " This is an example of unstructured data. It can be a piece of text, an image, or a video file.\n",
      "\n",
      "Semi-structured Data:\n",
      " {'ID': 1, 'Name': 'Raju', 'Attributes': {'Height': 185, 'Weight': 80}}\n"
     ]
    }
   ],
   "source": [
    "#230701238\n",
    "#Prasnnakumar.P\n",
    "#CSE-D\n",
    "\n",
    "import pandas as pd \n",
    "structured_data = pd.DataFrame({\n",
    "    'ID': [11,22,33],\n",
    "    'Name': ['Rakesh', 'Nithish', 'Pratyush'],\n",
    "    'Age': [21,65,23]\n",
    "})\n",
    "print(\"Structured Data:\\n\", structured_data)\n",
    "\n",
    "# Unstructured data example\n",
    "unstructured_data = \"This is an example of unstructured data. It can be a piece of text, an image, or a video file.\"\n",
    "print(\"\\nUnstructured Data:\\n\", unstructured_data)\n",
    "\n",
    "# Semi-structured data example (JSON)\n",
    "semi_structured_data = {'ID': 1, 'Name': 'Raju', 'Attributes': {'Height': 185, 'Weight': 80}}\n",
    "print(\"\\nSemi-structured Data:\\n\", semi_structured_data)\n"
   ]
  }
 ],
 "metadata": {
  "kernelspec": {
   "display_name": "myenv",
   "language": "python",
   "name": "python3"
  },
  "language_info": {
   "codemirror_mode": {
    "name": "ipython",
    "version": 3
   },
   "file_extension": ".py",
   "mimetype": "text/x-python",
   "name": "python",
   "nbconvert_exporter": "python",
   "pygments_lexer": "ipython3",
   "version": "3.9.5"
  }
 },
 "nbformat": 4,
 "nbformat_minor": 2
}
